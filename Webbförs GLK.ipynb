{
 "cells": [
  {
   "cell_type": "markdown",
   "metadata": {},
   "source": [
    "## Läs in filen, skriv ut, och städa den"
   ]
  },
  {
   "cell_type": "code",
   "execution_count": 1,
   "metadata": {},
   "outputs": [
    {
     "name": "stdout",
     "output_type": "stream",
     "text": [
      "Vilket datum?222\n"
     ]
    }
   ],
   "source": [
    "import pandas as pd\n",
    "\n",
    "import os\n",
    "\n",
    "data = pd.read_excel(\"Webförs.xlsx\")\n",
    "\n",
    "os.startfile(\"Webförs.xlsx\", \"print\")\n",
    "\n",
    "datum = input(\"Vilket datum?\")\n",
    "\n",
    "data.dropna(subset=['ProductName'], inplace = True)\n",
    "\n",
    "data[\"OrderNo\"] = data[\"OrderNo\"].astype(int).replace('\\.o', '', regex = True)\n",
    "\n",
    "data[\"PriceIncVat\"] = data[\"PriceIncVat\"].astype(int).replace('\\.o', '', regex = True)\n",
    "\n",
    "data = data[[\"ProductName\", \"OrderNo\", \"NoOfItems\", \"PriceIncVat\", \"PriceExcVat\", \"Info\"]]\n"
   ]
  },
  {
   "cell_type": "markdown",
   "metadata": {},
   "source": [
    "## Kontering Klarna och kort"
   ]
  },
  {
   "cell_type": "code",
   "execution_count": 2,
   "metadata": {},
   "outputs": [],
   "source": [
    "data2 = data.copy()\n",
    "\n",
    "data2[\"Belopp\"] = None\n",
    "\n",
    "data2[\"Konto\"] = \"1570\"\n",
    "\n",
    "data2[\"B\"] = 0\n",
    "data2[\"C\"]= None\n",
    "data2[\"D\"] = None\n",
    "data2[\"E\"] = None\n",
    "\n",
    "data2.loc[data2['Info'].str.contains('Kort'), 'Konto'] = \"1571\"\n",
    "\n",
    "data2.loc[data2['Konto'].str.contains('1571'), 'OrderNo'] = datum + \" Webfors\""
   ]
  },
  {
   "cell_type": "markdown",
   "metadata": {},
   "source": [
    "## Kontering Frakt"
   ]
  },
  {
   "cell_type": "code",
   "execution_count": 3,
   "metadata": {},
   "outputs": [],
   "source": [
    "t = data2[data2.Info.str.contains('Hemleverans')].drop_duplicates(subset='OrderNo')\n",
    "\n",
    "t2 = data2[data2.Info.str.contains('Manuell')].drop_duplicates(subset='OrderNo')\n",
    "\n",
    "t2 = t2['PriceIncVat'].apply(lambda x: x+250)\n",
    "\n",
    "t = t['PriceIncVat'].apply(lambda x: x+19)\n",
    "\n",
    "def frakt(data):\n",
    "    try:\n",
    "        antal = t.count()\n",
    "        split = [\n",
    "        {'Konto':3507, 'B': 920, 'Belopp': -15.2*antal, 'Referens': datum + ' Webfors'},\n",
    "        {'Konto':2610, 'B': 0, 'Belopp': -3.8*antal, 'Referens': 'Webfors'},\n",
    "        ] \n",
    "        split = pd.DataFrame(split)\n",
    "        split[\"C\"]= None\n",
    "        split[\"D\"] = None\n",
    "        split[\"E\"] = None\n",
    "    except:\n",
    "        pass\n",
    "    return split[[\"Konto\", \"B\", \"C\", \"D\", \"E\", \"Belopp\", \"Referens\"]]\n",
    "\n",
    "def frakt2(data):\n",
    "    try:\n",
    "        antal = t2.count()\n",
    "        split = [\n",
    "        {'Konto':3507, 'B': 920, 'Belopp': -200*antal, 'Referens': datum + ' Webfors'},\n",
    "        {'Konto':2610, 'B': 0, 'Belopp': -50*antal, 'Referens': 'Webfors'},\n",
    "        ] \n",
    "        split = pd.DataFrame(split)\n",
    "        split[\"C\"]= None\n",
    "        split[\"D\"] = None\n",
    "        split[\"E\"] = None\n",
    "    except:\n",
    "        pass\n",
    "    return split[[\"Konto\", \"B\", \"C\", \"D\", \"E\", \"Belopp\", \"Referens\"]]\n",
    "\n",
    "data3 = frakt(data)\n",
    "\n",
    "data4 = frakt2(data)\n",
    "\n",
    "my_list= t.index.values.tolist()\n",
    "\n",
    "my_list2= t2.index.values.tolist()\n",
    "\n",
    "data2.at[my_list,\"PriceIncVat\"]= t\n",
    "\n",
    "data2.at[my_list2,\"PriceIncVat\"]= t2"
   ]
  },
  {
   "cell_type": "markdown",
   "metadata": {},
   "source": [
    "## Strukturera data2 (Klarna, Kort + frakt)"
   ]
  },
  {
   "cell_type": "code",
   "execution_count": 4,
   "metadata": {},
   "outputs": [],
   "source": [
    "data2 = data2[[\"Konto\", \"B\", \"C\", \"D\", \"E\", \"PriceIncVat\", \"OrderNo\"]]\n",
    "\n",
    "data2.columns = [\"Konto\", \"B\", \"C\", \"D\", \"E\",\"Belopp\", \"Referens\"]"
   ]
  },
  {
   "cell_type": "markdown",
   "metadata": {},
   "source": [
    "## Kontering produkter"
   ]
  },
  {
   "cell_type": "code",
   "execution_count": 5,
   "metadata": {},
   "outputs": [],
   "source": [
    "data[\"Moms\"] = data[\"PriceIncVat\"]-data[\"PriceExcVat\"]\n",
    "\n",
    "data[\"Konto\"] = None\n",
    "\n",
    "data[\"Referens\"] = None\n",
    "\n",
    "data[\"Konto\"] = \"2976\"\n",
    "\n",
    "def gruppaket_split(data):\n",
    "\n",
    "    try:\n",
    "        antal = data.NoOfItems[data.ProductName == 'Stora Gruppaketet'].sum()\n",
    "        split = [\n",
    "        {'Konto':2976, 'Belopp': -380*antal, 'Referens': '3054/110'},\n",
    "        {'Konto':2976, 'Belopp': 96*antal, 'Referens': '3069/110'},\n",
    "        {'Konto':2979, 'Belopp': -80*antal, 'Referens': '3923/110'},\n",
    "        {'Konto':2610, 'Belopp': -71*antal, 'Referens': 'Webfors'},\n",
    "        ] \n",
    "        split = pd.DataFrame(split)\n",
    "        split[\"B\"] = 0\n",
    "        split[\"C\"]= None\n",
    "        split[\"D\"] = None\n",
    "        split[\"E\"] = None\n",
    "    except:\n",
    "        pass\n",
    "    \n",
    "    return split[[\"Konto\", \"B\", \"C\", \"D\", \"E\", \"Belopp\", \"Referens\"]]\n",
    "\n",
    "def guldkort_ÅA_split(data):\n",
    "    try:\n",
    "        antal = data.NoOfItems[data.ProductName == 'Guldkortet ÅA'].sum()\n",
    "        split = [\n",
    "        {'Konto': 2976, 'Belopp': -1359.2*antal, 'Referens': '3056/110'},\n",
    "        {'Konto': 2976, 'Belopp': 80*antal, 'Referens': '3069/110'},\n",
    "        {'Konto': 2610, 'Belopp': -319.8*antal, 'Referens': 'Webfors'}\n",
    "        ]\n",
    "        split = pd.DataFrame(split)\n",
    "        split[\"B\"] = 0\n",
    "        split[\"C\"]= None\n",
    "        split[\"D\"] = None\n",
    "        split[\"E\"] = None\n",
    "    except:\n",
    "        pass\n",
    "    \n",
    "    return split[[\"Konto\", \"B\", \"C\", \"D\", \"E\", \"Belopp\", \"Referens\"]]\n",
    "\n",
    "data5 = gruppaket_split(data)\n",
    "\n",
    "data6 = guldkort_ÅA_split(data)\n",
    "\n",
    "data.loc[data['ProductName'].str.contains('Guldkortet'), 'Referens'] = '3056/110'\n",
    "data.loc[data['ProductName'].str.contains('Gröna Kortet'), 'Referens'] = '3018/110'\n",
    "data.loc[data['ProductName'].str.contains('Gröna kortet'), 'Referens'] = '3018/110'\n",
    "data.loc[data['ProductName'].str.contains('Åkband'), 'Referens'] = '3051/110'\n",
    "data.loc[data['ProductName'].str.contains('Paketentré'), 'Referens'] = '3001/110'\n",
    "data.loc[data['ProductName'].str.contains('Entré'), 'Referens'] = '3001/110'\n",
    "data.loc[data['ProductName'].str.contains('House'), 'Referens'] = '3059/110'\n",
    "data.loc[data['ProductName'].str.contains('Rab'), 'Referens'] = '3011/110'\n",
    "data.loc[data['ProductName'].str.contains('Stora'), 'Referens'] = 'Stora Gruppaketet'\n",
    "data.loc[data['ProductName'].str.contains('Guldkortet ÅA'), 'Referens'] = 'ÅA'\n",
    "data.loc[data['ProductName'].str.contains('Present'), 'Referens'] = datum + \" Webfors\"\n",
    "data.loc[data['Info'].str.contains('Hämta'), 'Referens'] = datum + \" Webfors\"\n",
    "\n",
    "data.loc[data['ProductName'].str.contains('House'), 'Konto'] = \"2978\"\n",
    "data.loc[data['ProductName'].str.contains('Present'), 'Konto'] = \"2894\"\n",
    "data.loc[data['ProductName'].str.contains('Stora'), 'Konto'] = \"1915\"\n",
    "data.loc[data['ProductName'].str.contains('Guldkortet ÅA'), 'Konto'] = \"1915\"\n",
    "data.loc[data['Info'].str.contains('Hämta'), 'Konto'] = \"2813\"\n",
    "\n",
    "data[\"2610\"] = None\n",
    "data[\"2630\"] = None\n",
    "\n",
    "data[\"Belopp\"] = None\n",
    "\n",
    "data.loc[data['Konto'].str.contains('2976'), '2610'] = data[\"Moms\"]*-1\n",
    "data.loc[data['Konto'].str.contains('2978'), '2630'] = data[\"Moms\"]*-1\n",
    "\n",
    "data.loc[data['Konto'].str.contains('2976'), 'Belopp'] = data[\"PriceExcVat\"]*-1\n",
    "data.loc[data['Konto'].str.contains('2978'), 'Belopp'] = data[\"PriceExcVat\"]*-1\n",
    "data.loc[data['Konto'].str.contains('2813'), 'Belopp'] = data[\"PriceIncVat\"]*-1\n",
    "data.loc[data['Konto'].str.contains('1915'), 'Belopp'] = data[\"PriceIncVat\"]*-1\n",
    "data.loc[data['Konto'].str.contains('2894'), 'Belopp'] = data[\"PriceIncVat\"]*-1\n",
    "\n",
    "Moms_25 = data[\"2610\"].sum()\n",
    "Moms_6 = data[\"2630\"].sum()\n",
    "\n",
    "data[\"B\"] = 0\n",
    "data[\"C\"]= None\n",
    "data[\"D\"] = None\n",
    "data[\"E\"] = None\n",
    "\n",
    "data = data[[\"Konto\", \"B\", \"C\", \"D\", \"E\", \"Belopp\", \"Referens\"]]\n",
    "\n",
    "data.loc[-1] = [\"2610\",0, None, None, None, Moms_25, 'Webfors']\n",
    "data.loc[-2] = [\"2630\",0, None, None, None, Moms_6, 'Webfors']\n"
   ]
  },
  {
   "cell_type": "markdown",
   "metadata": {},
   "source": [
    "## Kontering presentkort microdeb"
   ]
  },
  {
   "cell_type": "code",
   "execution_count": 6,
   "metadata": {},
   "outputs": [],
   "source": [
    "pk = pd.read_excel(\"Presentkort.xlsx\")\n",
    "\n",
    "pk = pk[pk['Operatör'].str.contains(\"Jetshop\")]\n",
    "\n",
    "pk['Konto'] = \"1570\"\n",
    "pk[\"B\"] = 0\n",
    "pk[\"C\"]= None\n",
    "pk[\"D\"] = None\n",
    "pk[\"E\"] = None\n",
    "\n",
    "pk = pk[[\"Konto\", \"B\", \"C\", \"D\", \"E\", \"Bruttobelopp\", \"Kvittonr.\"]]\n",
    "\n",
    "pk.columns = [\"Konto\", \"B\", \"C\", \"D\", \"E\",\"Belopp\", \"Referens\"]\n",
    "\n",
    "summa_pk = pk['Belopp'].sum()*-1\n",
    "\n",
    "pk.loc[-1] = [\"2894\", 0, None, None, None, summa_pk, datum + \" Microdeb\" ]"
   ]
  },
  {
   "cell_type": "markdown",
   "metadata": {},
   "source": [
    "## Sammanställning dataframes, städning, samt skapa csv-fil"
   ]
  },
  {
   "cell_type": "code",
   "execution_count": 7,
   "metadata": {},
   "outputs": [],
   "source": [
    "frames = [data, data2, data3, data4, data5, data6, pk]\n",
    "\n",
    "data7 = pd.concat(frames)\n",
    "\n",
    "data7 = data7[data7.Referens != 'Stora Gruppaketet']\n",
    "\n",
    "data7 = data7[data7.Referens != 'ÅA']\n",
    "\n",
    "data7 = data7[data7.Belopp != 0]\n",
    "\n",
    "data7[\"Belopp\"] = data7[\"Belopp\"].astype(float).replace('\\.o', '', regex = True)\n",
    "\n",
    "data7[\"Konto\"] = data7[\"Konto\"].astype(int).replace('\\.o', '', regex = True)\n",
    "\n",
    "data7.B = data7.B.astype(int) \n",
    "\n",
    "data7['Referens'] = data7['Referens'].apply(lambda x: 'Webfors' if x is None else x)\n",
    "\n",
    "data8 = data7.groupby(['Referens', 'Konto', 'B'])['Belopp'].sum().reset_index()\n",
    "\n",
    "data8[\"C\"]= None\n",
    "data8[\"D\"] = None\n",
    "data8[\"E\"] = None\n",
    "\n",
    "data8 = data8[[\"Konto\", 'B', 'C', 'D', 'E','Belopp', \"Referens\"]]\n",
    "\n",
    "data8.to_csv('Webförs.csv', index=False, header=False, sep = \";\") "
   ]
  }
 ],
 "metadata": {
  "kernelspec": {
   "display_name": "Python 3",
   "language": "python",
   "name": "python3"
  },
  "language_info": {
   "codemirror_mode": {
    "name": "ipython",
    "version": 3
   },
   "file_extension": ".py",
   "mimetype": "text/x-python",
   "name": "python",
   "nbconvert_exporter": "python",
   "pygments_lexer": "ipython3",
   "version": "3.7.1"
  }
 },
 "nbformat": 4,
 "nbformat_minor": 2
}
