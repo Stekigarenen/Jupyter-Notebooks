{
 "cells": [
  {
   "cell_type": "code",
   "execution_count": 1,
   "metadata": {
    "scrolled": true
   },
   "outputs": [
    {
     "name": "stdout",
     "output_type": "stream",
     "text": [
      "GLT + år/månadGLT 2006\n"
     ]
    }
   ],
   "source": [
    "import pandas as pd\n",
    "\n",
    "# Läs in data från excel-filen \"Adra.xlsx\" som ligger i C:\\Users\\seosob02\\\n",
    "\n",
    "data = pd.read_excel(\"Adra.xlsx\")\n",
    "\n",
    "# Ta bort missing values (Nan) från kolumnen data[\"Utg Saldo\"], och eftersom inplace = True\n",
    "# så behöver vi inte ge funktionen en ny variabel\n",
    "\n",
    "data.dropna(subset=['Utg Saldo'], inplace = True)\n",
    "\n",
    "# Ge kolumnen daata[\"Bolag\"] värdet 3 (Gröna Lunds värde) för att kunna läsa in i Adra\n",
    "\n",
    "data[\"Bolag\"]= 3\n",
    "\n",
    "# Stolpa upp kolumnerna hur vi vill ha dem\n",
    "\n",
    "data = data[[\"Bolag\", \"Konto\", \"Utg Saldo\"]]\n",
    "\n",
    "# Ge ett nytt värde för var vi vill spara filen och vad den ska heta\n",
    "\n",
    "output = \"C:\\\\Balans\\\\\" + input(\"GLT + år/månad\") + \".xlsx\"\n",
    "\n",
    "# Spara ner filen utan index-kolumnen och header-raden i mappen som motsvarar variabeln output\n",
    "\n",
    "data.to_excel(output, index=False, header=False)"
   ]
  },
  {
   "cell_type": "code",
   "execution_count": null,
   "metadata": {},
   "outputs": [],
   "source": []
  }
 ],
 "metadata": {
  "kernelspec": {
   "display_name": "Python 3",
   "language": "python",
   "name": "python3"
  },
  "language_info": {
   "codemirror_mode": {
    "name": "ipython",
    "version": 3
   },
   "file_extension": ".py",
   "mimetype": "text/x-python",
   "name": "python",
   "nbconvert_exporter": "python",
   "pygments_lexer": "ipython3",
   "version": "3.7.1"
  }
 },
 "nbformat": 4,
 "nbformat_minor": 2
}
