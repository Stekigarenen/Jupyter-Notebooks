{
 "cells": [
  {
   "cell_type": "code",
   "execution_count": 1,
   "metadata": {},
   "outputs": [
    {
     "name": "stdout",
     "output_type": "stream",
     "text": [
      "Jag känner mig lite halvslö... men energin börjar komma!\n"
     ]
    }
   ],
   "source": [
    "a = \"Jag känner mig lite halvslö...\"\n",
    "b = \"men energin börjar komma!\"\n",
    "print(a, b)"
   ]
  },
  {
   "cell_type": "code",
   "execution_count": 2,
   "metadata": {},
   "outputs": [
    {
     "name": "stdout",
     "output_type": "stream",
     "text": [
      "Jag känner mig lite halvslö... \n",
      "men energin börjar komma!\n"
     ]
    }
   ],
   "source": [
    "a = \"Jag känner mig lite halvslö...\"\n",
    "b = \"\\nmen energin börjar komma!\"\n",
    "print(a, b)"
   ]
  },
  {
   "cell_type": "code",
   "execution_count": 4,
   "metadata": {},
   "outputs": [
    {
     "name": "stdout",
     "output_type": "stream",
     "text": [
      "Jag känner mig lite halvslö...\n",
      " men energin börjar komma!\n"
     ]
    }
   ],
   "source": [
    "a = \"Jag känner mig lite halvslö...\\n\"\n",
    "b = \"men energin börjar komma!\"\n",
    "print(a, b)"
   ]
  },
  {
   "cell_type": "code",
   "execution_count": 6,
   "metadata": {},
   "outputs": [
    {
     "name": "stdout",
     "output_type": "stream",
     "text": [
      "\tJag känner mig lite halvslö... \n",
      "\tmen energin börjar komma!\n"
     ]
    }
   ],
   "source": [
    "a = \"\\tJag känner mig lite halvslö...\"\n",
    "b = \"\\n\\tmen energin börjar komma!\"\n",
    "print(a, b)"
   ]
  },
  {
   "cell_type": "code",
   "execution_count": 8,
   "metadata": {},
   "outputs": [
    {
     "name": "stdout",
     "output_type": "stream",
     "text": [
      "Jag känner mig lite halvslö {}\n"
     ]
    }
   ],
   "source": [
    "a = \"Jag känner mig lite halvslö {}\"\n",
    "print(a)"
   ]
  },
  {
   "cell_type": "code",
   "execution_count": 9,
   "metadata": {},
   "outputs": [
    {
     "name": "stdout",
     "output_type": "stream",
     "text": [
      "Jag känner mig lite halvslö \n",
      "men energin börjar komma\n"
     ]
    }
   ],
   "source": [
    "b = a.format(\"\\nmen energin börjar komma\")\n",
    "print(b)"
   ]
  },
  {
   "cell_type": "code",
   "execution_count": 10,
   "metadata": {},
   "outputs": [],
   "source": [
    "# en hashtag gör så att kompilerarern ignorerar, och är ett bra sätt att kommentera kod på #"
   ]
  },
  {
   "cell_type": "code",
   "execution_count": 13,
   "metadata": {},
   "outputs": [
    {
     "name": "stdout",
     "output_type": "stream",
     "text": [
      "Vad är ditt namn? Larry David\n",
      "Hej Larry David, välkommen till golfklubben!\n"
     ]
    }
   ],
   "source": [
    "name = input(\"Vad är ditt namn? \")\n",
    "print(\"Hej {},\".format(name), \"välkommen till golfklubben!\")"
   ]
  },
  {
   "cell_type": "code",
   "execution_count": 14,
   "metadata": {},
   "outputs": [
    {
     "name": "stdout",
     "output_type": "stream",
     "text": [
      "<class 'bool'>\n",
      "<class 'int'>\n",
      "<class 'str'>\n"
     ]
    }
   ],
   "source": [
    "a = True\n",
    "b = 10\n",
    "c = \"Hej\"\n",
    "print(type(a))\n",
    "print(type(b))\n",
    "print(type(c))"
   ]
  },
  {
   "cell_type": "code",
   "execution_count": 15,
   "metadata": {},
   "outputs": [
    {
     "name": "stdout",
     "output_type": "stream",
     "text": [
      "85\n"
     ]
    }
   ],
   "source": [
    "a = 5\n",
    "b = 8\n",
    "c = 10\n",
    "print(a+b*c)"
   ]
  },
  {
   "cell_type": "code",
   "execution_count": 16,
   "metadata": {},
   "outputs": [
    {
     "name": "stdout",
     "output_type": "stream",
     "text": [
      "19683.0\n"
     ]
    }
   ],
   "source": [
    "import math\n",
    "\n",
    "kvadraten = math.pow(3,9)\n",
    "print(kvadraten)"
   ]
  },
  {
   "cell_type": "code",
   "execution_count": 18,
   "metadata": {},
   "outputs": [
    {
     "name": "stdout",
     "output_type": "stream",
     "text": [
      "9.9498743710662\n"
     ]
    }
   ],
   "source": [
    "kvadratroten = math.sqrt(99)\n",
    "print(kvadratroten)"
   ]
  },
  {
   "cell_type": "code",
   "execution_count": 19,
   "metadata": {},
   "outputs": [
    {
     "name": "stdout",
     "output_type": "stream",
     "text": [
      "True\n"
     ]
    }
   ],
   "source": [
    "a = 99\n",
    "b = 100\n",
    "print(a<b)"
   ]
  },
  {
   "cell_type": "code",
   "execution_count": 20,
   "metadata": {},
   "outputs": [
    {
     "name": "stdout",
     "output_type": "stream",
     "text": [
      "WTF!\n"
     ]
    }
   ],
   "source": [
    "if a > b:\n",
    "    print(\"Great\")\n",
    "else:\n",
    "    print(\"WTF!\")"
   ]
  },
  {
   "cell_type": "code",
   "execution_count": 22,
   "metadata": {},
   "outputs": [
    {
     "name": "stdout",
     "output_type": "stream",
     "text": [
      "True\n"
     ]
    }
   ],
   "source": [
    "a = True\n",
    "b = 1\n",
    "print(a == b)"
   ]
  },
  {
   "cell_type": "code",
   "execution_count": 23,
   "metadata": {},
   "outputs": [
    {
     "name": "stdout",
     "output_type": "stream",
     "text": [
      "True\n"
     ]
    }
   ],
   "source": [
    "a = False\n",
    "b = 0\n",
    "print(a == b)"
   ]
  },
  {
   "cell_type": "code",
   "execution_count": 24,
   "metadata": {},
   "outputs": [
    {
     "name": "stdout",
     "output_type": "stream",
     "text": [
      "True\n"
     ]
    }
   ],
   "source": [
    "a = True\n",
    "b = False\n",
    "print(a|b)"
   ]
  },
  {
   "cell_type": "code",
   "execution_count": 25,
   "metadata": {},
   "outputs": [
    {
     "name": "stdout",
     "output_type": "stream",
     "text": [
      "18\n"
     ]
    }
   ],
   "source": [
    "a = \"10\"\n",
    "b = 8\n",
    "print(int(a)+b)"
   ]
  },
  {
   "cell_type": "code",
   "execution_count": 3,
   "metadata": {},
   "outputs": [
    {
     "name": "stdout",
     "output_type": "stream",
     "text": [
      "240.0\n"
     ]
    }
   ],
   "source": [
    "x = 1600\n",
    "\n",
    "if x > 500 and x <1000:\n",
    "    print(x * 0.05)\n",
    "elif x > 1000 and x < 1500:\n",
    "    print(x * 0.1)\n",
    "elif x > 1500 and x < 2000:\n",
    "    print (x * 0.15)\n",
    "elif x > 2000:\n",
    "    print (x * 0.2)\n",
    "else:\n",
    "    print(\"Du får ingen rabatt\")\n",
    "\n",
    "\n"
   ]
  },
  {
   "cell_type": "code",
   "execution_count": 4,
   "metadata": {},
   "outputs": [
    {
     "name": "stdout",
     "output_type": "stream",
     "text": [
      "0\n",
      "1\n",
      "2\n",
      "3\n",
      "4\n"
     ]
    }
   ],
   "source": [
    "i = 0\n",
    "\n",
    "while i < 5:\n",
    "    print(i)\n",
    "    i=i+1"
   ]
  },
  {
   "cell_type": "code",
   "execution_count": 6,
   "metadata": {},
   "outputs": [
    {
     "name": "stdout",
     "output_type": "stream",
     "text": [
      "0\n",
      "1\n",
      "2\n",
      "3\n",
      "4\n"
     ]
    }
   ],
   "source": [
    "for i in range(5):\n",
    "    print(i)"
   ]
  },
  {
   "cell_type": "code",
   "execution_count": 7,
   "metadata": {},
   "outputs": [
    {
     "name": "stdout",
     "output_type": "stream",
     "text": [
      "9\n"
     ]
    }
   ],
   "source": [
    "def my_function(x):\n",
    "    \"Multiplicerar inparametern med 3\"\n",
    "    return x * 3\n",
    "\n",
    "result = my_function(3)\n",
    "print(result)"
   ]
  },
  {
   "cell_type": "code",
   "execution_count": 8,
   "metadata": {},
   "outputs": [
    {
     "name": "stdout",
     "output_type": "stream",
     "text": [
      "Help on function my_function in module __main__:\n",
      "\n",
      "my_function(x)\n",
      "    Multiplicerar inparametern med 3\n",
      "\n"
     ]
    }
   ],
   "source": [
    "help(my_function)"
   ]
  },
  {
   "cell_type": "code",
   "execution_count": 9,
   "metadata": {},
   "outputs": [
    {
     "name": "stdout",
     "output_type": "stream",
     "text": [
      "Arean på cirkeln är 50.26548245743669\n"
     ]
    }
   ],
   "source": [
    "import math\n",
    "\n",
    "def area_cirkel(radie):\n",
    "    \"Returnerar arean på en cirkel\"\n",
    "    return radie*radie*math.pi\n",
    "\n",
    "print(\"Arean på cirkeln är\", area_cirkel(4))"
   ]
  },
  {
   "cell_type": "code",
   "execution_count": 10,
   "metadata": {},
   "outputs": [
    {
     "name": "stdout",
     "output_type": "stream",
     "text": [
      "Arean på kvadraten är 16\n"
     ]
    }
   ],
   "source": [
    "def area_kvadrat(x):\n",
    "    \"Returnerar arean på en kvadrat\"\n",
    "    return x*x\n",
    "\n",
    "print(\"Arean på kvadraten är\", area_kvadrat(4))"
   ]
  },
  {
   "cell_type": "code",
   "execution_count": 19,
   "metadata": {},
   "outputs": [],
   "source": [
    "def largest_area(bredd, radie):\n",
    "    \"Returnerar om kvadraten eller cirkeln har större area, givet bredden på kvadraten och radien på cirkeln\"\n",
    "    kvadrat = area_kvadrat(bredd)\n",
    "    cirkel = area_cirkel(radie)\n",
    "    \n",
    "    if kvadrat == cirkel:\n",
    "        print(\"Arean är lika stor på båda\")\n",
    "    elif kvadrat > cirkel:\n",
    "        print(\"Aren på kvadraten är större än den på cirkeln\")\n",
    "    else:\n",
    "        print(\"Arean på cirkeln är större än den på kvadraten\")\n",
    "        \n",
    "    print(\"Arean på kvadraten är\", kvadrat, \"Arean på cirkeln är\", cirkel)\n",
    "    \n",
    "        \n"
   ]
  },
  {
   "cell_type": "code",
   "execution_count": 20,
   "metadata": {},
   "outputs": [
    {
     "name": "stdout",
     "output_type": "stream",
     "text": [
      "Arean på cirkeln är större än den på kvadraten\n",
      "Arean på kvadraten är 16 Arean på cirkeln är 50.26548245743669\n"
     ]
    }
   ],
   "source": [
    "largest_area(bredd=4, radie=4)"
   ]
  },
  {
   "cell_type": "code",
   "execution_count": 21,
   "metadata": {},
   "outputs": [],
   "source": [
    "def dummy_function(text=\"Programmera i python\"):\n",
    "    print(\"Texten som skrivs ut är \", text)"
   ]
  },
  {
   "cell_type": "code",
   "execution_count": 22,
   "metadata": {},
   "outputs": [
    {
     "name": "stdout",
     "output_type": "stream",
     "text": [
      "Texten som skrivs ut är  Programmera i python\n"
     ]
    }
   ],
   "source": [
    "dummy_function()"
   ]
  },
  {
   "cell_type": "code",
   "execution_count": 23,
   "metadata": {},
   "outputs": [
    {
     "name": "stdout",
     "output_type": "stream",
     "text": [
      "Texten som skrivs ut är  yoooo\n"
     ]
    }
   ],
   "source": [
    "dummy_function(\"yoooo\")"
   ]
  },
  {
   "cell_type": "markdown",
   "metadata": {},
   "source": []
  },
  {
   "cell_type": "code",
   "execution_count": 25,
   "metadata": {},
   "outputs": [
    {
     "name": "stdout",
     "output_type": "stream",
     "text": [
      "8\n"
     ]
    }
   ],
   "source": [
    "import Math_tools\n",
    "\n",
    "sum = Math_tools.sum_values(3,5)\n",
    "\n",
    "print(sum)"
   ]
  },
  {
   "cell_type": "code",
   "execution_count": 26,
   "metadata": {},
   "outputs": [
    {
     "name": "stdout",
     "output_type": "stream",
     "text": [
      "10\n"
     ]
    }
   ],
   "source": [
    "from Math_tools import sum_values\n",
    "\n",
    "sum = sum_values(4,6)\n",
    "\n",
    "print(sum)"
   ]
  },
  {
   "cell_type": "code",
   "execution_count": 27,
   "metadata": {},
   "outputs": [
    {
     "name": "stdout",
     "output_type": "stream",
     "text": [
      "13\n"
     ]
    }
   ],
   "source": [
    "from Math_tools import sum_values as sv\n",
    "\n",
    "sum = sv (6,7)\n",
    "\n",
    "print(sum)"
   ]
  },
  {
   "cell_type": "code",
   "execution_count": 28,
   "metadata": {},
   "outputs": [
    {
     "name": "stdout",
     "output_type": "stream",
     "text": [
      "[2, 6, 7, 8, 9]\n"
     ]
    }
   ],
   "source": [
    "my_list = [2,6,7,8,9]\n",
    "print(my_list)"
   ]
  },
  {
   "cell_type": "code",
   "execution_count": 29,
   "metadata": {},
   "outputs": [
    {
     "name": "stdout",
     "output_type": "stream",
     "text": [
      "7\n"
     ]
    }
   ],
   "source": [
    "print(my_list[2])"
   ]
  },
  {
   "cell_type": "code",
   "execution_count": 30,
   "metadata": {},
   "outputs": [
    {
     "name": "stdout",
     "output_type": "stream",
     "text": [
      "['Hej', 4, [2, 4, 5]]\n"
     ]
    }
   ],
   "source": [
    "my_list2 = [\"Hej\", 4, [2,4,5]]\n",
    "print(my_list2)"
   ]
  },
  {
   "cell_type": "code",
   "execution_count": 31,
   "metadata": {},
   "outputs": [
    {
     "name": "stdout",
     "output_type": "stream",
     "text": [
      "('Hej', 4, [2, 4, 5])\n",
      "<class 'tuple'>\n",
      "<class 'str'>\n"
     ]
    }
   ],
   "source": [
    "my_tuple = (\"Hej\", 4, [2,4,5])\n",
    "print(my_tuple)\n",
    "print(type(my_tuple))\n",
    "print(type(my_tuple[0]))"
   ]
  },
  {
   "cell_type": "code",
   "execution_count": 32,
   "metadata": {},
   "outputs": [
    {
     "name": "stdout",
     "output_type": "stream",
     "text": [
      "Hej\n",
      "4\n",
      "[2, 4, 5]\n"
     ]
    }
   ],
   "source": [
    "for i in my_tuple:\n",
    "    print(i)"
   ]
  },
  {
   "cell_type": "code",
   "execution_count": 33,
   "metadata": {},
   "outputs": [
    {
     "name": "stdout",
     "output_type": "stream",
     "text": [
      "Hej\n",
      "4\n",
      "[2, 4, 5]\n"
     ]
    }
   ],
   "source": [
    "for i in my_list2:\n",
    "    print(i)"
   ]
  },
  {
   "cell_type": "code",
   "execution_count": 34,
   "metadata": {},
   "outputs": [],
   "source": [
    "class Car:\n",
    "    \n",
    "    def __init__(self, brand, year, color):\n",
    "        self.brand = brand\n",
    "        self.year = year\n",
    "        self.color = color\n",
    "    def drive(self):\n",
    "        print(self.brand + \": Kör framåt\")\n",
    "    def honk(self):\n",
    "        print(self.brand + \": Tut tut!\")\n",
    "    def breaking(self):\n",
    "        print(self.brand + \": Bromsar...\")\n",
    "        \n"
   ]
  },
  {
   "cell_type": "code",
   "execution_count": 35,
   "metadata": {},
   "outputs": [
    {
     "name": "stdout",
     "output_type": "stream",
     "text": [
      "Volvo: Kör framåt\n"
     ]
    }
   ],
   "source": [
    "volvo = Car(\"Volvo\", 2018, \"Vit\")\n",
    "bmw  = Car(\"Bmw\", 2005, \"Svart\")\n",
    "\n",
    "volvo.drive()"
   ]
  },
  {
   "cell_type": "code",
   "execution_count": 37,
   "metadata": {},
   "outputs": [
    {
     "name": "stdout",
     "output_type": "stream",
     "text": [
      "Bmw: Bromsar...\n"
     ]
    }
   ],
   "source": [
    "bmw.breaking()"
   ]
  },
  {
   "cell_type": "code",
   "execution_count": 39,
   "metadata": {},
   "outputs": [
    {
     "name": "stdout",
     "output_type": "stream",
     "text": [
      "2018\n"
     ]
    }
   ],
   "source": [
    "print(volvo.year)"
   ]
  },
  {
   "cell_type": "code",
   "execution_count": 40,
   "metadata": {},
   "outputs": [
    {
     "name": "stdout",
     "output_type": "stream",
     "text": [
      "Svart\n"
     ]
    }
   ],
   "source": [
    "print(bmw.color)"
   ]
  },
  {
   "cell_type": "code",
   "execution_count": 44,
   "metadata": {},
   "outputs": [],
   "source": [
    "class Vehicles:\n",
    "    \n",
    "    def __init__(self, year, color): \n",
    "        self.is_on = False   \n",
    "        self.year = year \n",
    "        self.color = color\n",
    "    def start_vehicle(self): \n",
    "        self.is_on = True\n",
    "    def stop_vehicle(self):\n",
    "        self.is_on = False\n",
    "    "
   ]
  },
  {
   "cell_type": "code",
   "execution_count": 45,
   "metadata": {},
   "outputs": [],
   "source": [
    "class Boat(Vehicles):\n",
    "    def __init__(self, year, color): \n",
    "        super().__init_(year, color)\n",
    "        \n",
    "    def sail(self):\n",
    "        print(\"Seglar\")"
   ]
  },
  {
   "cell_type": "code",
   "execution_count": 47,
   "metadata": {},
   "outputs": [],
   "source": [
    "class Car(Vehicles):\n",
    "    \n",
    "    def __init__(self, year, color, brand): \n",
    "        super().__init_(year, color)\n",
    "        self.brand = brand\n",
    "    \n",
    "    def drive(self):\n",
    "        print(\"Kör framåt!\")"
   ]
  },
  {
   "cell_type": "code",
   "execution_count": null,
   "metadata": {},
   "outputs": [],
   "source": []
  }
 ],
 "metadata": {
  "kernelspec": {
   "display_name": "Python 3",
   "language": "python",
   "name": "python3"
  },
  "language_info": {
   "codemirror_mode": {
    "name": "ipython",
    "version": 3
   },
   "file_extension": ".py",
   "mimetype": "text/x-python",
   "name": "python",
   "nbconvert_exporter": "python",
   "pygments_lexer": "ipython3",
   "version": "3.7.1"
  }
 },
 "nbformat": 4,
 "nbformat_minor": 2
}
