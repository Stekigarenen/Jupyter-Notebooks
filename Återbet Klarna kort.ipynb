{
 "cells": [
  {
   "cell_type": "markdown",
   "metadata": {},
   "source": [
    "## Läs in filen, skriv ut den och städa den"
   ]
  },
  {
   "cell_type": "code",
   "execution_count": 1,
   "metadata": {},
   "outputs": [],
   "source": [
    "import pandas as pd\n",
    "\n",
    "data = pd.read_excel(\"Återbet.xlsx\")\n",
    "\n",
    "data = data[pd.to_numeric(data['OrderNo'], errors='coerce').notnull()]\n",
    "\n",
    "data[\"OrderNo\"] = data[\"OrderNo\"].astype(int).replace('\\.o', '', regex = True)\n",
    "\n",
    "data[\"PriceIncVat\"] = data[\"PriceIncVat\"].astype(int).replace('\\.o', '', regex = True)\n",
    "\n",
    "data = data[[\"ProductName\", \"OrderNo\", \"NoOfItems\", \"PriceIncVat\", \"PriceExcVat\", \"Info\"]]\n",
    "\n",
    "data.dropna(subset=['ProductName'], inplace = True)\n"
   ]
  },
  {
   "cell_type": "markdown",
   "metadata": {},
   "source": [
    "## Kontering Klarna"
   ]
  },
  {
   "cell_type": "code",
   "execution_count": 2,
   "metadata": {},
   "outputs": [],
   "source": [
    "data2 = data.copy()\n",
    "\n",
    "data2[\"Belopp\"] = None\n",
    "\n",
    "data2[\"PriceIncVat\"] = data2[\"PriceIncVat\"]*-1\n",
    "\n",
    "data2[\"Konto\"] = \"1570\"\n",
    "\n",
    "data2[\"B\"] = 0\n",
    "data2[\"C\"]= None\n",
    "data2[\"D\"] = None\n",
    "data2[\"E\"] = None\n",
    "\n",
    "data2.loc[data2['Info'].str.contains('Kort'), 'Konto'] = \"1571\""
   ]
  },
  {
   "cell_type": "markdown",
   "metadata": {},
   "source": [
    "## Kontering frakt"
   ]
  },
  {
   "cell_type": "code",
   "execution_count": 3,
   "metadata": {},
   "outputs": [],
   "source": [
    "# Skapa ett dataset med bara de som har \"Hemleverans\"\n",
    "# samt att man bara får en rad av varje Ordernummer\n",
    "\n",
    "t = data2[data2.Info.str.contains('Hemleverans')].drop_duplicates(subset='OrderNo')\n",
    "\n",
    "# Använda lambda-funktionen för att ge orderbeloppen en fraktavgift på 19 kr\n",
    "\n",
    "t = t['PriceIncVat'].apply(lambda x: x-19)\n",
    "\n",
    "# Skapa en funktion för konteringen av frakten\n",
    "\n",
    "def frakt(data):\n",
    "    try:\n",
    "        antal = t.count()\n",
    "        split = [\n",
    "        {'Konto':3507, 'B': 920, 'Belopp': 15.2*antal, 'Referens': 'Aterbet'},\n",
    "        {'Konto':2610, 'B': 0, 'Belopp': 3.8*antal, 'Referens': 'Aterbet'},\n",
    "        ] \n",
    "        split = pd.DataFrame(split)\n",
    "        split[\"C\"]= None\n",
    "        split[\"D\"] = None\n",
    "        split[\"E\"] = None\n",
    "    except:\n",
    "        pass\n",
    "    return split[[\"Konto\", \"B\", \"C\", \"D\", \"E\", \"Belopp\", \"Referens\"]]\n",
    "\n",
    "data6 = frakt(data)\n",
    "\n",
    "# Skapa en lista av alla index-nummer på de som ska ha fraktavgift\n",
    "\n",
    "my_list= t.index.values.tolist()\n",
    "\n",
    "# Ersätt index-listans tidigare belopp med det nya beloppet som inkluderar frakt\n",
    "\n",
    "data2.at[my_list,\"PriceIncVat\"]= t"
   ]
  },
  {
   "cell_type": "markdown",
   "metadata": {},
   "source": [
    "## Sätt upp strukturen för Klarna-dataframen"
   ]
  },
  {
   "cell_type": "code",
   "execution_count": 4,
   "metadata": {},
   "outputs": [],
   "source": [
    "data2 = data2[[\"Konto\", \"B\", \"C\", \"D\", \"E\", \"PriceIncVat\", \"OrderNo\"]]\n",
    "\n",
    "data2.columns = [\"Konto\", \"B\", \"C\", \"D\", \"E\",\"Belopp\", \"Referens\"]"
   ]
  },
  {
   "cell_type": "markdown",
   "metadata": {},
   "source": [
    "## Kontering produkter"
   ]
  },
  {
   "cell_type": "code",
   "execution_count": 5,
   "metadata": {},
   "outputs": [],
   "source": [
    "data[\"Konto\"] = None\n",
    "\n",
    "data[\"Referens\"] = None\n",
    "\n",
    "data[\"Konto\"] = \"2976\"\n",
    "\n",
    "data[\"Moms\"] = data[\"PriceIncVat\"]-data[\"PriceExcVat\"]\n",
    "\n",
    "def gruppaket_split(data):\n",
    "\n",
    "    try:\n",
    "        antal = data.NoOfItems[data.ProductName == 'Stora Gruppaketet'].sum()\n",
    "        split = [\n",
    "        {'Konto':2976, 'Belopp': 380*antal, 'Referens': '3054/110'},\n",
    "        {'Konto':2976, 'Belopp': -96*antal, 'Referens': '3069/110'},\n",
    "        {'Konto':2979, 'Belopp': 80*antal, 'Referens': '3923/110'},\n",
    "        {'Konto':2610, 'Belopp': 71*antal, 'Referens': 'Aterbet'},\n",
    "        ] \n",
    "        split = pd.DataFrame(split)\n",
    "        split[\"B\"] = 0\n",
    "        split[\"C\"]= None\n",
    "        split[\"D\"] = None\n",
    "        split[\"E\"] = None\n",
    "    except:\n",
    "        pass\n",
    "    \n",
    "    return split[[\"Konto\", \"B\", \"C\", \"D\", \"E\", \"Belopp\", \"Referens\"]]\n",
    "\n",
    "def guldkort_ÅA_split(data):\n",
    "    try:\n",
    "        antal = data.NoOfItems[data.ProductName == 'Guldkortet ÅA'].sum()\n",
    "        split = [\n",
    "        {'Konto': 2976, 'Belopp': 1359.2*antal, 'Referens': '3056/110'},\n",
    "        {'Konto': 2976, 'Belopp': -80*antal, 'Referens': '3069/110'},\n",
    "        {'Konto': 2610, 'Belopp': 319.8*antal, 'Referens': 'Aterbet'}\n",
    "        ]\n",
    "        split = pd.DataFrame(split)\n",
    "        split[\"B\"] = 0\n",
    "        split[\"C\"]= None\n",
    "        split[\"D\"] = None\n",
    "        split[\"E\"] = None\n",
    "    except:\n",
    "        pass\n",
    "    \n",
    "    return split[[\"Konto\", \"B\", \"C\", \"D\", \"E\", \"Belopp\", \"Referens\"]]\n",
    "\n",
    "data3 = gruppaket_split(data)\n",
    "\n",
    "data4 = guldkort_ÅA_split(data)\n",
    "\n",
    "data.loc[data['ProductName'].str.contains('Guldkortet'), 'Referens'] = '3056/110'\n",
    "data.loc[data['ProductName'].str.contains('Gröna Kortet'), 'Referens'] = '3018/110'\n",
    "data.loc[data['ProductName'].str.contains('Gröna kortet'), 'Referens'] = '3018/110'\n",
    "data.loc[data['ProductName'].str.contains('Åkband'), 'Referens'] = '3051/110'\n",
    "data.loc[data['ProductName'].str.contains('Paketentré'), 'Referens'] = '3001/110'\n",
    "data.loc[data['ProductName'].str.contains('Entré'), 'Referens'] = '3001/110'\n",
    "data.loc[data['ProductName'].str.contains('House'), 'Referens'] = '3059/110'\n",
    "data.loc[data['ProductName'].str.contains('Rab'), 'Referens'] = '3011/110'\n",
    "data.loc[data['ProductName'].str.contains('Stora'), 'Referens'] = 'Stora Gruppaketet'\n",
    "data.loc[data['ProductName'].str.contains('Guldkortet ÅA'), 'Referens'] = 'ÅA'\n",
    "data.loc[data['ProductName'].str.contains('Present'), 'Referens'] = \"Aterbet\"\n",
    "data.loc[data['Info'].str.contains('Hämta'), 'Referens'] = \"Aterbet\"\n",
    "\n",
    "\n",
    "data.loc[data['ProductName'].str.contains('House'), 'Konto'] = \"2978\"\n",
    "data.loc[data['ProductName'].str.contains('Present'), 'Konto'] = \"2894\"\n",
    "data.loc[data['ProductName'].str.contains('Stora'), 'Konto'] = \"1915\"\n",
    "data.loc[data['ProductName'].str.contains('Guldkortet ÅA'), 'Konto'] = \"1915\"\n",
    "data.loc[data['Info'].str.contains('Hämta'), 'Konto'] = \"2813\"\n",
    "\n",
    "data[\"2610\"] = None\n",
    "data[\"2630\"] = None\n",
    "\n",
    "data[\"Belopp\"] = None\n",
    "\n",
    "data.loc[data['Konto'].str.contains('2976'), '2610'] = data[\"Moms\"]\n",
    "data.loc[data['Konto'].str.contains('2978'), '2630'] = data[\"Moms\"]\n",
    "data.loc[data['Konto'].str.contains('2610'), 'Referens'] = 'Aterbet'\n",
    "data.loc[data['Konto'].str.contains('2630'), 'Referens'] = 'Aterbet'\n",
    "\n",
    "data.loc[data['Konto'].str.contains('2976'), 'Belopp'] = data[\"PriceExcVat\"]\n",
    "data.loc[data['Konto'].str.contains('2978'), 'Belopp'] = data[\"PriceExcVat\"]\n",
    "data.loc[data['Konto'].str.contains('2813'), 'Belopp'] = data[\"PriceIncVat\"]\n",
    "data.loc[data['Konto'].str.contains('1915'), 'Belopp'] = data[\"PriceIncVat\"]\n",
    "data.loc[data['Konto'].str.contains('2894'), 'Belopp'] = data[\"PriceIncVat\"]\n",
    "\n",
    "Moms_25 = data[\"2610\"].sum()\n",
    "Moms_6 = data[\"2630\"].sum()\n",
    "\n",
    "data[\"B\"] = 0\n",
    "data[\"C\"]= None\n",
    "data[\"D\"] = None\n",
    "data[\"E\"] = None\n",
    "\n",
    "data = data[[\"Konto\", \"B\", \"C\", \"D\", \"E\", \"Belopp\", \"Referens\"]]\n",
    "\n",
    "data.loc[-1] = [\"2610\", 0, None, None, None, Moms_25, \"Aterbet\"]\n",
    "data.loc[-2] = [\"2630\", 0, None, None, None, Moms_6, 'Aterbet']"
   ]
  },
  {
   "cell_type": "markdown",
   "metadata": {},
   "source": [
    "## Sammanställ de olika dataframen, städa, och gör en csv-fil av dem"
   ]
  },
  {
   "cell_type": "code",
   "execution_count": 6,
   "metadata": {
    "scrolled": true
   },
   "outputs": [],
   "source": [
    "frames = [data, data2, data3, data4, data6]\n",
    "\n",
    "data5 = pd.concat(frames)\n",
    "\n",
    "data5 = data5[data5.Referens != 'Stora Gruppaketet']\n",
    "\n",
    "data5 = data5[data5.Referens != 'ÅA']\n",
    "\n",
    "data5 = data5[data5.Belopp != 0]\n",
    "\n",
    "data5[\"Belopp\"] = data5[\"Belopp\"].astype(float).replace('\\.o', '', regex = True)\n",
    "\n",
    "data5.B = data5.B.astype(int)\n",
    "\n",
    "data5['Referens'] = data5['Referens'].apply(lambda x: 'Aterbat' if x is None else x)\n",
    "\n",
    "data7 = data5.groupby(by=['Referens','Konto','B']).sum().reset_index()\n",
    "\n",
    "data7[\"C\"]= None\n",
    "data7[\"D\"] = None\n",
    "data7[\"E\"] = None\n",
    "\n",
    "data7 = data7[[\"Konto\", 'B', 'C', 'D', 'E','Belopp', \"Referens\"]]\n",
    "\n",
    "data7.to_csv('Återbetalning.csv', index=False, header=False, sep = \";\") "
   ]
  },
  {
   "cell_type": "code",
   "execution_count": null,
   "metadata": {},
   "outputs": [],
   "source": []
  }
 ],
 "metadata": {
  "kernelspec": {
   "display_name": "Python 3",
   "language": "python",
   "name": "python3"
  },
  "language_info": {
   "codemirror_mode": {
    "name": "ipython",
    "version": 3
   },
   "file_extension": ".py",
   "mimetype": "text/x-python",
   "name": "python",
   "nbconvert_exporter": "python",
   "pygments_lexer": "ipython3",
   "version": "3.7.1"
  }
 },
 "nbformat": 4,
 "nbformat_minor": 2
}
