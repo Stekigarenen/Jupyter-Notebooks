{
 "cells": [
  {
   "cell_type": "code",
   "execution_count": 1,
   "metadata": {},
   "outputs": [],
   "source": [
    "import pandas as pd\n",
    "\n",
    "# Läs in data från excel-filen \"Klarna.xlsx\" som ligger i C:\\Users\\seosob02\\\n",
    "\n",
    "data = pd.read_excel(\"Klarna.xlsx\")\n",
    "\n",
    "# Ta bort alla rader som inte är numeriska utefter kolumnen data[\"Unnamed: 2\"]\n",
    "\n",
    "data = data[pd.to_numeric(data['Unnamed: 2'], errors='coerce').notnull()]\n",
    "\n",
    "# Skapa en ny variabel som kallas data som bara har kolumnerna data[\"Unnamed: 2\"] och data[\"Unnamed: 4\"]\n",
    "\n",
    "data = data[[\"Unnamed: 2\", \"Unnamed: 4\"]]\n",
    "\n",
    "# Med funktionen columns, ge kolumnerna nya namn\n",
    "\n",
    "data.columns = [\"Belopp\", \"Ordernummer\"]\n",
    "\n",
    "# Hela kolumnen sätts nu till 1570\n",
    "\n",
    "data[\"Konto\"] = 1570\n",
    "\n",
    "data[[\"Konto\", \"Belopp\", \"Ordernummer\"]]\n",
    "\n",
    "data[\"B\"] = None\n",
    "data[\"C\"]= None\n",
    "data[\"D\"] = None\n",
    "data[\"E\"] = None\n",
    "\n",
    "# Sortera kolumnerna efter hur man vill att den ska se ut i konteringen\n",
    "\n",
    "data = data[[\"Konto\", \"B\", \"C\", \"D\", \"E\", \"Belopp\", \"Ordernummer\"]]\n",
    "\n",
    "# Skapa en total rad för kolumnen data[\"Belopp\"] med funktionen sum()\n",
    "\n",
    "Total = data[\"Belopp\"].sum()\n",
    "\n",
    "Total = Total *-1\n",
    "\n",
    "# Skapa en ny rad med totalen\n",
    "\n",
    "data.loc[-1] = [1922, None, None, None, None, Total, None]\n",
    "\n",
    "def test(x):\n",
    "    return x*-1\n",
    "\n",
    "data[\"Belopp\"] = data[\"Belopp\"].apply(lambda x : x*-1)\n",
    "\n",
    "# Se till att belopp och konto är typen int, så att den kan läsas in Balans\n",
    "\n",
    "data[\"Belopp\"] = data[\"Belopp\"].astype(int).replace('\\.o', '', regex = True)\n",
    "\n",
    "data[\"Konto\"] = data[\"Konto\"].astype(int).replace('\\.o', '', regex = True)\n",
    "\n",
    "# Skapa csv-fil\n",
    "\n",
    "data.to_csv('Klarna.csv', index=False, header=False, sep = \";\") "
   ]
  },
  {
   "cell_type": "code",
   "execution_count": null,
   "metadata": {},
   "outputs": [],
   "source": []
  }
 ],
 "metadata": {
  "kernelspec": {
   "display_name": "Python 3",
   "language": "python",
   "name": "python3"
  },
  "language_info": {
   "codemirror_mode": {
    "name": "ipython",
    "version": 3
   },
   "file_extension": ".py",
   "mimetype": "text/x-python",
   "name": "python",
   "nbconvert_exporter": "python",
   "pygments_lexer": "ipython3",
   "version": "3.7.1"
  }
 },
 "nbformat": 4,
 "nbformat_minor": 2
}
